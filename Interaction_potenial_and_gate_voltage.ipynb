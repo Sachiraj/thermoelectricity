{
  "nbformat": 4,
  "nbformat_minor": 0,
  "metadata": {
    "colab": {
      "provenance": []
    },
    "kernelspec": {
      "name": "python3",
      "display_name": "Python 3"
    },
    "language_info": {
      "name": "python"
    }
  },
  "cells": [
    {
      "cell_type": "markdown",
      "source": [
        "# **Estimation of interaction Potential and applied gate voltage in QPC in region-1 in two-terminal QH setup**"
      ],
      "metadata": {
        "id": "fpRfMZ20wX8p"
      }
    },
    {
      "cell_type": "code",
      "source": [
        "import numpy as np\n",
        "from scipy.integrate import quad\n",
        "from scipy.optimize import root\n",
        "\n",
        "# Constants\n",
        "V1 = 20\n",
        "V2 = 0\n",
        "T1 = 2\n",
        "T2 = 1\n",
        "Gd = 1\n",
        "ec = 1\n",
        "kb = 1\n",
        "Vg = 0\n",
        "\n",
        "# Transmission Probability T as a function of G and U\n",
        "def transmission_prob(G, U):\n",
        "    return 1 / (1 + np.exp(-2 * np.pi * (G - 1 - U) / 0.1))\n",
        "\n",
        "# Fermi-Dirac distribution functions\n",
        "def f1(G):\n",
        "    return 1 / (1 + np.exp((G + ec * V1) / (kb * T1)))\n",
        "\n",
        "def f2(G):\n",
        "    return 1 / (1 + np.exp((G + ec * V2) / (kb * T2)))\n",
        "\n",
        "def f(G):\n",
        "    return 1 / (1 + np.exp(G))\n",
        "\n",
        "# Define the integrands for A1(U)\n",
        "def integrand_A1_part1(G, U):\n",
        "    T = transmission_prob(G, U)\n",
        "    sinh_value = np.sinh(np.sqrt(10 / (2 * (G - 1 - U))))\n",
        "    return (2 * ((1 - T / 2) * f1(G) + (T / 2) * f2(G) - f(G))) / (0.1 * 3.14 * sinh_value)\n",
        "\n",
        "def integrand_A1_part2(G, U):\n",
        "    T = transmission_prob(G, U)\n",
        "    cosh_value = np.cosh(np.sqrt(10 / (2 * (1 + U - G))))\n",
        "    return (2 * ((1 - T / 2) * f1(G) + (T / 2) * f2(G) - f(G))) / (0.1 * 3.14 * cosh_value)\n",
        "\n",
        "# Define the function A1(U)\n",
        "def A1(U):\n",
        "    integral1, _ = quad(integrand_A1_part1, 1 + U, np.inf, args=(U,))\n",
        "    integral2, _ = quad(integrand_A1_part2, U - 4, 1 + U, args=(U,))\n",
        "    return integral1 + integral2\n",
        "\n",
        "# Define the function to find the root for\n",
        "def equation(U):\n",
        "    return A1(U) - 0.01 * (U - Vg)\n",
        "\n",
        "# Find the root using scipy's root function\n",
        "result = root(equation, Vg)\n",
        "U = result.x[0]\n",
        "\n",
        "# Output the final result\n",
        "print(\"The value of U is:\", U)\n",
        "U\n",
        "\n",
        "\n"
      ],
      "metadata": {
        "colab": {
          "base_uri": "https://localhost:8080/"
        },
        "id": "NFBvEcMJuOjt",
        "outputId": "fd659f9d-929f-4395-8630-677d7832e2fe"
      },
      "execution_count": null,
      "outputs": [
        {
          "output_type": "stream",
          "name": "stdout",
          "text": [
            "The value of U is: 9.902513830661777\n"
          ]
        },
        {
          "output_type": "stream",
          "name": "stderr",
          "text": [
            "<ipython-input-66-44193b973bcb>:24: RuntimeWarning: overflow encountered in exp\n",
            "  return 1 / (1 + np.exp((G + ec * V2) / (kb * T2)))\n",
            "<ipython-input-66-44193b973bcb>:27: RuntimeWarning: overflow encountered in exp\n",
            "  return 1 / (1 + np.exp(G))\n",
            "<ipython-input-66-44193b973bcb>:21: RuntimeWarning: overflow encountered in exp\n",
            "  return 1 / (1 + np.exp((G + ec * V1) / (kb * T1)))\n"
          ]
        },
        {
          "output_type": "execute_result",
          "data": {
            "text/plain": [
              "9.902513830661777"
            ]
          },
          "metadata": {},
          "execution_count": 66
        }
      ]
    },
    {
      "cell_type": "code",
      "source": [
        "9.90434-9.90251"
      ],
      "metadata": {
        "colab": {
          "base_uri": "https://localhost:8080/"
        },
        "id": "c6XeEDmftlai",
        "outputId": "19ecdd50-ccd0-412e-aeb6-19c76e9c476a"
      },
      "execution_count": null,
      "outputs": [
        {
          "output_type": "execute_result",
          "data": {
            "text/plain": [
              "0.0018299999999999983"
            ]
          },
          "metadata": {},
          "execution_count": 67
        }
      ]
    },
    {
      "cell_type": "markdown",
      "source": [
        "# **Estimation of interaction Potential and applied gate voltage in QPC in region-2 in two-terminal QH setup**"
      ],
      "metadata": {
        "id": "NKXOaTknwvTa"
      }
    },
    {
      "cell_type": "code",
      "source": [
        "import numpy as np\n",
        "from scipy.integrate import quad\n",
        "from scipy.optimize import root\n",
        "\n",
        "# Constants\n",
        "V1 = 20\n",
        "V2 = 0\n",
        "T1 = 2\n",
        "T2 = 1\n",
        "Gd = 1\n",
        "ec = 1\n",
        "kb = 1\n",
        "Vg = 1\n",
        "\n",
        "# Transmission Probability T as a function of G and U\n",
        "def transmission_prob(G, U):\n",
        "    return 1 / (1 + np.exp(-2 * np.pi * (G - 1 - U) / 0.1))\n",
        "\n",
        "# Fermi-Dirac distribution functions\n",
        "def f1(G):\n",
        "    return 1 / (1 + np.exp((G + ec * V1) / (kb * T1)))\n",
        "\n",
        "def f2(G):\n",
        "    return 1 / (1 + np.exp((G + ec * V2) / (kb * T2)))\n",
        "\n",
        "def f(G):\n",
        "    return 1 / (1 + np.exp(G))\n",
        "\n",
        "# Define the integrands for A1(U)\n",
        "def integrand_A1_part1(G, U):\n",
        "    T = transmission_prob(G, U)\n",
        "    sinh_value = np.sinh(np.sqrt(10 / (2 * (G - 1 - U))))\n",
        "    return (2 * ((T / 2) * f1(G) + (1 - T / 2) * f2(G) - f(G))) / (0.1 * 3.14 * sinh_value)\n",
        "\n",
        "def integrand_A1_part2(G, U):\n",
        "    T = transmission_prob(G, U)\n",
        "    cosh_value = np.cosh(np.sqrt(10 / (2 * (1 + U - G))))\n",
        "    return (2 * ((T / 2) * f1(G) + (1 - T / 2) * f2(G) - f(G))) / (0.1 * 3.14 * cosh_value)\n",
        "\n",
        "# Define the function A1(U)\n",
        "def A1(U):\n",
        "    integral1, _ = quad(integrand_A1_part1, 1 + U, np.inf, args=(U,))\n",
        "    integral2, _ = quad(integrand_A1_part2, U - 4, 1 + U, args=(U,))\n",
        "    return integral1 + integral2\n",
        "\n",
        "# Define the function to find the root for\n",
        "def equation(U):\n",
        "    return A1(U) - 0.01 * (U - Vg)\n",
        "\n",
        "# Find the root using scipy's root function\n",
        "result = root(equation, Vg)\n",
        "U = result.x[0]\n",
        "\n",
        "# Output the final result\n",
        "print(\"The value of U is:\", U)\n",
        "\n",
        "U\n"
      ],
      "metadata": {
        "colab": {
          "base_uri": "https://localhost:8080/"
        },
        "id": "4kTJ5skzujAR",
        "outputId": "ad650cd0-58ea-4560-c909-12a75aab0534"
      },
      "execution_count": null,
      "outputs": [
        {
          "output_type": "stream",
          "name": "stderr",
          "text": [
            "<ipython-input-69-c0810a40d163>:24: RuntimeWarning: overflow encountered in exp\n",
            "  return 1 / (1 + np.exp((G + ec * V2) / (kb * T2)))\n",
            "<ipython-input-69-c0810a40d163>:27: RuntimeWarning: overflow encountered in exp\n",
            "  return 1 / (1 + np.exp(G))\n",
            "<ipython-input-69-c0810a40d163>:21: RuntimeWarning: overflow encountered in exp\n",
            "  return 1 / (1 + np.exp((G + ec * V1) / (kb * T1)))\n"
          ]
        },
        {
          "output_type": "stream",
          "name": "stdout",
          "text": [
            "The value of U is: 3.1263019134199506\n"
          ]
        },
        {
          "output_type": "execute_result",
          "data": {
            "text/plain": [
              "3.1263019134199506"
            ]
          },
          "metadata": {},
          "execution_count": 69
        }
      ]
    },
    {
      "cell_type": "code",
      "source": [
        "3.12630-3.11110"
      ],
      "metadata": {
        "colab": {
          "base_uri": "https://localhost:8080/"
        },
        "id": "IE88A2zRvCYw",
        "outputId": "86c4752c-a0ac-469f-e791-27b1376a7d23"
      },
      "execution_count": null,
      "outputs": [
        {
          "output_type": "execute_result",
          "data": {
            "text/plain": [
              "0.015200000000000102"
            ]
          },
          "metadata": {},
          "execution_count": 70
        }
      ]
    },
    {
      "cell_type": "code",
      "source": [
        "(9.90251 + 3.11110)/2"
      ],
      "metadata": {
        "colab": {
          "base_uri": "https://localhost:8080/"
        },
        "id": "MBPVFEGZvLgT",
        "outputId": "9320a9d4-5dd0-4326-b9b5-1d7d902792d4"
      },
      "execution_count": null,
      "outputs": [
        {
          "output_type": "execute_result",
          "data": {
            "text/plain": [
              "6.506805"
            ]
          },
          "metadata": {},
          "execution_count": 71
        }
      ]
    },
    {
      "cell_type": "code",
      "source": [
        "(0.00183 + 0.01520)/2"
      ],
      "metadata": {
        "colab": {
          "base_uri": "https://localhost:8080/"
        },
        "id": "wLiUfGubwFM5",
        "outputId": "4f7f4fd4-2667-40e2-be87-75bc19369156"
      },
      "execution_count": null,
      "outputs": [
        {
          "output_type": "execute_result",
          "data": {
            "text/plain": [
              "0.008515"
            ]
          },
          "metadata": {},
          "execution_count": 72
        }
      ]
    },
    {
      "cell_type": "code",
      "source": [
        "2 * 764.15795"
      ],
      "metadata": {
        "colab": {
          "base_uri": "https://localhost:8080/"
        },
        "id": "HbxswTFevVe1",
        "outputId": "f34c174b-83f8-445c-f8c0-3b255535df50"
      },
      "execution_count": null,
      "outputs": [
        {
          "output_type": "execute_result",
          "data": {
            "text/plain": [
              "1528.3159"
            ]
          },
          "metadata": {},
          "execution_count": 84
        }
      ]
    },
    {
      "cell_type": "code",
      "source": [
        "0.008515/2"
      ],
      "metadata": {
        "colab": {
          "base_uri": "https://localhost:8080/"
        },
        "id": "bODGy8hi1HLu",
        "outputId": "77eb3336-f9af-44be-c9fa-b9bb6b8d3e5e"
      },
      "execution_count": null,
      "outputs": [
        {
          "output_type": "execute_result",
          "data": {
            "text/plain": [
              "0.0042575"
            ]
          },
          "metadata": {},
          "execution_count": 85
        }
      ]
    },
    {
      "cell_type": "markdown",
      "source": [
        "# **Estimation of interaction Potential and applied gate voltage in QPC 1 in three terminal QH setup with voltage-temperature probe**"
      ],
      "metadata": {
        "id": "ZKqJqBysvpi-"
      }
    },
    {
      "cell_type": "code",
      "source": [
        "import numpy as np\n",
        "from scipy.integrate import quad\n",
        "from scipy.optimize import fsolve\n",
        "\n",
        "# Constants\n",
        "ec = 1\n",
        "h = 1\n",
        "hb = 1\n",
        "kb = 1\n",
        "V = 1.14\n",
        "Vg = 1\n",
        "T1 = 2\n",
        "T2 = 1\n",
        "omega = 0.1\n",
        "pi = np.pi\n",
        "\n",
        "# Functions for TX, TY, f1, f2, f3\n",
        "def TX(G, E1):\n",
        "    return 1 / (1 + np.exp(-2 * pi * (G - E1) / (hb * omega)))\n",
        "\n",
        "def TY(G, E2):\n",
        "    return 1 / (1 + np.exp(-2 * pi * (G - E2) / (hb * omega)))\n",
        "\n",
        "def f1(G, V1, T1):\n",
        "    return 1 / (1 + np.exp((G - ec * V1) / (kb * T1)))\n",
        "\n",
        "def f2(G, V2, T2):\n",
        "    return 1 / (1 + np.exp((G - ec * V2) / (kb * T2)))\n",
        "\n",
        "def f3(G, V3, T3):\n",
        "    return 1 / (1 + np.exp((G - ec * V3) / (kb * T3)))\n",
        "\n",
        "# Define the integral functions I3 and J3\n",
        "def I3(V3, U, T3):\n",
        "    E1 = 1 + U\n",
        "    E2 = 1\n",
        "    V1 = -V\n",
        "    V2 = 0\n",
        "\n",
        "    def integrand(G):\n",
        "        T31 = TX(G, E1)\n",
        "        T32 = TY(G, E2) * (1 - TX(G, E1))\n",
        "        return (T31 * (f3(G, V3, T3) - f1(G, V1, T1)) + T32 * (f3(G, V3, T3) - f2(G, V2, T2)))\n",
        "\n",
        "    result, _ = quad(integrand, -np.inf, np.inf)\n",
        "    return ec / h * result\n",
        "\n",
        "def J3(V3, U, T3):\n",
        "    E1 = 1 + U\n",
        "    E2 = 1\n",
        "    V1 = -V\n",
        "    V2 = 0\n",
        "\n",
        "    def integrand(G):\n",
        "        T31 = TX(G, E1)\n",
        "        T32 = TY(G, E2) * (1 - TX(G, E1))\n",
        "        return G * (T31 * (f3(G, V3, T3) - f1(G, V1, T1)) + T32 * (f3(G, V3, T3) - f2(G, V2, T2)))\n",
        "\n",
        "    result, _ = quad(integrand, -np.inf, np.inf)\n",
        "    return ec / h * result\n",
        "\n",
        "# Define functions to find the roots of I3 and J3\n",
        "def find_I4_I5(U):\n",
        "    def equations(vars):\n",
        "        V3, T3 = vars\n",
        "        return [I3(V3, U, T3), J3(V3, U, T3)]\n",
        "\n",
        "    V3, T3 = fsolve(equations, [V, 2 * T2])\n",
        "    return V3, T3\n",
        "\n",
        "# Define A11 and A12\n",
        "def A11(U, G, V3, T3):\n",
        "    E1 = 1 + U\n",
        "    E2 = 1\n",
        "\n",
        "    term1 = (1 - 1 / (1 + np.exp(-2 * pi * (G - 1 - U) / (hb * omega))) / 2) * f1(G, -V, T1)\n",
        "    term2 = (TX(G, E1) * TY(G, E2)) / 2 * f2(G, 0, T2)\n",
        "    term3 = (TX(G, E1) * (1 - TY(G, E2))) / 2 * f3(G, V3, T3)\n",
        "    term4 = -1 / (1 + np.exp(G))\n",
        "\n",
        "    return 2 / (0.1 * 3.14) * (term1 + term2 + term3 + term4) * np.sinh(np.sqrt(10 / (2 * (G - 1 - U)))) ** -1\n",
        "\n",
        "def A12(U, G, V3, T3):\n",
        "    E1 = 1 + U\n",
        "    E2 = 1\n",
        "\n",
        "    term1 = (1 - 1 / (1 + np.exp(-2 * pi * (G - 1 - U) / (hb * omega))) / 2) * f1(G, -V, T1)\n",
        "    term2 = (TX(G, E1) * TY(G, E2)) / 2 * f2(G, 0, T2)\n",
        "    term3 = (TX(G, E1) * (1 - TY(G, E2))) / 2 * f3(G, V3, T3)\n",
        "    term4 = -1 / (1 + np.exp(G))\n",
        "\n",
        "    return 2 / (0.1 * 3.14) * (term1 + term2 + term3 + term4) * np.cosh(np.sqrt(10 / (2 * (1 + U - G)))) ** -1\n",
        "\n",
        "# Define A1 and solve for A2\n",
        "def A1(U):\n",
        "    V3, T3 = find_I4_I5(U)\n",
        "\n",
        "    integral1, _ = quad(lambda G: A11(U, G, V3, T3), 1 + U, np.inf)\n",
        "    integral2, _ = quad(lambda G: A12(U, G, V3, T3), U - 4, 1 + U)\n",
        "\n",
        "    return integral1 + integral2\n",
        "\n",
        "A3 = fsolve(lambda U: A1(U) - 0.01 * (U - Vg), 0.0)[0]\n",
        "\n",
        "# Define A21 and A22\n",
        "def A21(U, G, V3, T3):\n",
        "    E1 = 1 + U\n",
        "    E2 = 1\n",
        "\n",
        "    term1 = (TX(G, E1) / 2) * f1(G, -V, T1)\n",
        "    term2 = (1 - (TX(G, E1) / 2)) * TY(G, E2) * f2(G, 0, T2)\n",
        "    term3 = (1 - (TX(G, E1) / 2)) * (1 - TY(G, E2)) * f3(G, V3, T3)\n",
        "    term4 = -1 / (1 + np.exp(G))\n",
        "\n",
        "    return 2 / (0.1 * 3.14) * (term1 + term2 + term3 + term4) * np.sinh(np.sqrt(10 / (2 * (G - 1 - U)))) ** -1\n",
        "\n",
        "def A22(U, G, V3, T3):\n",
        "    E1 = 1 + U\n",
        "    E2 = 1\n",
        "\n",
        "    term1 = (TX(G, E1) / 2) * f1(G, -V, T1)\n",
        "    term2 = (1 - (TX(G, E1) / 2)) * TY(G, E2) * f2(G, 0, T2)\n",
        "    term3 = (1 - (TX(G, E1) / 2)) * (1 - TY(G, E2)) * f3(G, V3, T3)\n",
        "    term4 = -1 / (1 + np.exp(G))\n",
        "\n",
        "    return 2 / (0.1 * 3.14) * (term1 + term2 + term3 + term4) * np.cosh(np.sqrt(10 / (2 * (1 + U - G)))) ** -1\n",
        "\n",
        "# Define A4 and solve for A5\n",
        "def A4(U):\n",
        "    V3, T3 = find_I4_I5(U)\n",
        "\n",
        "    integral1, _ = quad(lambda G: A21(U, G, V3, T3), 1 + U, np.inf)\n",
        "    integral2, _ = quad(lambda G: A22(U, G, V3, T3), U - 4, 1 + U)\n",
        "\n",
        "    return integral1 + integral2\n",
        "\n",
        "A6 = fsolve(lambda U: A4(U) - 0.01 * (U - Vg), 0.0)[0]\n",
        "\n",
        "# Calculate A7\n",
        "A7 = (A3 + A6) / 2\n",
        "\n",
        "print(\"A3 =\", A3)\n",
        "print(\"A6 =\", A6)\n",
        "print(\"A7 =\", A7)\n"
      ],
      "metadata": {
        "colab": {
          "base_uri": "https://localhost:8080/"
        },
        "id": "XVZjvx1bAzds",
        "outputId": "8d28c94b-5183-470a-bf7a-6bc2234c97d7"
      },
      "execution_count": null,
      "outputs": [
        {
          "output_type": "stream",
          "name": "stderr",
          "text": [
            "<ipython-input-33-7babae8cff6e>:19: RuntimeWarning: overflow encountered in exp\n",
            "  return 1 / (1 + np.exp(-2 * pi * (G - E1) / (hb * omega)))\n",
            "<ipython-input-33-7babae8cff6e>:22: RuntimeWarning: overflow encountered in exp\n",
            "  return 1 / (1 + np.exp(-2 * pi * (G - E2) / (hb * omega)))\n",
            "<ipython-input-33-7babae8cff6e>:28: RuntimeWarning: overflow encountered in exp\n",
            "  return 1 / (1 + np.exp((G - ec * V2) / (kb * T2)))\n",
            "<ipython-input-33-7babae8cff6e>:31: RuntimeWarning: overflow encountered in exp\n",
            "  return 1 / (1 + np.exp((G - ec * V3) / (kb * T3)))\n",
            "<ipython-input-33-7babae8cff6e>:25: RuntimeWarning: overflow encountered in exp\n",
            "  return 1 / (1 + np.exp((G - ec * V1) / (kb * T1)))\n",
            "<ipython-input-33-7babae8cff6e>:79: RuntimeWarning: overflow encountered in exp\n",
            "  term4 = -1 / (1 + np.exp(G))\n",
            "<ipython-input-33-7babae8cff6e>:113: RuntimeWarning: overflow encountered in exp\n",
            "  term4 = -1 / (1 + np.exp(G))\n"
          ]
        },
        {
          "output_type": "stream",
          "name": "stdout",
          "text": [
            "A3 = 3.739250486411144\n",
            "A6 = 5.649104858089539\n",
            "A7 = 4.694177672250341\n"
          ]
        }
      ]
    },
    {
      "cell_type": "markdown",
      "source": [
        "# **Estimation of interaction Potential and applied gate voltage in QPC 2 in three terminal QH setup with voltage-temperature probe**"
      ],
      "metadata": {
        "id": "3Lc_wYZXwDOY"
      }
    },
    {
      "cell_type": "code",
      "source": [
        "import numpy as np\n",
        "from scipy.integrate import quad\n",
        "from scipy.optimize import root\n",
        "\n",
        "# Constants\n",
        "ec = 1\n",
        "a = 1\n",
        "kb = 1\n",
        "h = 1\n",
        "hb = 1\n",
        "omega = 0.1\n",
        "V = 20\n",
        "Vg = 1\n",
        "T1 = 2\n",
        "T2 = 1\n",
        "\n",
        "# Functions\n",
        "def TX(G, E1):\n",
        "    return 1 / (1 + np.exp(-2 * np.pi * (G - E1) / (hb * omega)))\n",
        "\n",
        "def TY(G, E2):\n",
        "    return 1 / (1 + np.exp(-2 * np.pi * (G - E2) / (hb * omega)))\n",
        "\n",
        "def f(G, V, T):\n",
        "    return 1 / (1 + np.exp((G - ec * V) / (kb * T)))\n",
        "\n",
        "def T31(G, E1):\n",
        "    return TX(G, E1)\n",
        "\n",
        "def T32(G, E1, E2):\n",
        "    return TY(G, E2) * (1 - TX(G, E1))\n",
        "\n",
        "def I3(V3, U, T3):\n",
        "    E1 = 1\n",
        "    E2 = 1 + U\n",
        "    integrand = lambda G: T31(G, E1) * (f(G, V3, T3) - f(G, -V, T1)) + \\\n",
        "                          T32(G, E1, E2) * (f(G, V3, T3) - f(G, 0, T2))\n",
        "    return ec/h * quad(integrand, -np.inf , np.inf, limit=100)[0]\n",
        "\n",
        "def J3(V3, U, T3):\n",
        "    E1 = 1\n",
        "    E2 = 1 + U\n",
        "    integrand = lambda G: G * (T31(G, E1) * (f(G, V3, T3) - f(G, -V, T1)) + \\\n",
        "                               T32(G, E1, E2) * (f(G, V3, T3) - f(G, 0, T2)))\n",
        "    return ec/h * quad(integrand, -np.inf , np.inf, limit=100)[0]\n",
        "\n",
        "def find_V3_T3(U):\n",
        "    def equations(vars):\n",
        "        V3, T3 = vars\n",
        "        return [I3(V3, U, T3), J3(V3, U, T3)]\n",
        "\n",
        "    sol = root(equations, [V, 2 * T2])\n",
        "    return sol.x\n",
        "\n",
        "def A11(U, G, V3, T3):\n",
        "    E2 = 1 + U\n",
        "    factor1 = (1 / (1 + np.exp(-2 * np.pi * (G - 1 - U) / (hb * omega)))) / 2\n",
        "    factor2 = 1 - factor1\n",
        "    return 2 / (0.1 * 3.14) * (factor1 / (1 + np.exp((G - ec * 0) / (kb * T2))) + \\\n",
        "                                factor2 / (1 + np.exp((G - ec * V3) / (kb * T3))) - \\\n",
        "                                1 / (1 + np.exp(G))) * np.sinh(np.sqrt(10 / (2 * (G - 1 - U)))) ** -1\n",
        "\n",
        "def A12(U, G, V3, T3):\n",
        "    factor1 = (1 / (1 + np.exp(-2 * np.pi * (G - 1 - U) / (hb * omega)))) / 2\n",
        "    factor2 = 1 - factor1\n",
        "    return 2 / (0.1 * 3.14) * (factor1 / (1 + np.exp((G - ec * 0) / (kb * T2))) + \\\n",
        "                                factor2 / (1 + np.exp((G - ec * V3) / (kb * T3))) - \\\n",
        "                                1 / (1 + np.exp(G))) * np.cosh(np.sqrt(10 / (2 * (1 + U - G)))) ** -1\n",
        "\n",
        "def A1(U):\n",
        "    V3, T3 = find_V3_T3(U)\n",
        "    integral1 = quad(lambda G: A11(U, G, V3, T3), 1 + U, np.inf, limit=100)[0]\n",
        "    integral2 = quad(lambda G: A12(U, G, V3, T3), U - 4, 1 + U, limit=100)[0]\n",
        "    return integral1 + integral2\n",
        "\n",
        "def find_U_A1():\n",
        "    def equation(U):\n",
        "        return A1(U) - 0.01 * (U - Vg)\n",
        "\n",
        "    sol = root(equation, 0.01)\n",
        "    return sol.x[0]\n",
        "\n",
        "def A21(U, G, V3, T3):\n",
        "    factor1 = 1 - 1 / (1 + np.exp(-2 * np.pi * (G - 1 - U) / (hb * omega)))\n",
        "    factor2 = 1 / (1 + np.exp(-2 * np.pi * (G - 1 - U) / (hb * omega))) / 2\n",
        "    return 2 / (0.1 * 3.14) * (factor1 / (1 + np.exp((G - ec * 0) / (kb * T2))) + \\\n",
        "                                factor2 / (1 + np.exp((G - ec * V3) / (kb * T3))) - \\\n",
        "                                1 / (1 + np.exp(G))) * np.sinh(np.sqrt(10 / (2 * (G - 1 - U)))) ** -1\n",
        "\n",
        "def A22(U, G, V3, T3):\n",
        "    factor1 = 1 - 1 / (1 + np.exp(-2 * np.pi * (G - 1 - U) / (hb * omega)))\n",
        "    factor2 = 1 / (1 + np.exp(-2 * np.pi * (G - 1 - U) / (hb * omega))) / 2\n",
        "    return 2 / (0.1 * 3.14) * (factor1 / (1 + np.exp((G - ec * 0) / (kb * T2))) + \\\n",
        "                                factor2 / (1 + np.exp((G - ec * V3) / (kb * T3))) - \\\n",
        "                                1 / (1 + np.exp(G))) * np.cosh(np.sqrt(10 / (2 * (1 + U - G)))) ** -1\n",
        "\n",
        "def A4(U):\n",
        "    V3, T3 = find_V3_T3(U)\n",
        "    integral1 = quad(lambda G: A21(U, G, V3, T3), 1 + U, np.inf, limit=100)[0]\n",
        "    integral2 = quad(lambda G: A22(U, G, V3, T3), U - 4, 1 + U, limit=100)[0]\n",
        "    return integral1 + integral2\n",
        "\n",
        "def find_U_A4():\n",
        "    def equation(U):\n",
        "        return A4(U) - 0.01 * (U - Vg)\n",
        "\n",
        "    sol = root(equation, 0.01)\n",
        "    return sol.x[0]\n",
        "\n",
        "# Calculate A3, A6 and their average\n",
        "A3 = find_U_A1()\n",
        "A6 = find_U_A4()\n",
        "A7 = (A3 + A6) / 2\n",
        "\n",
        "print(\"A3 =\", A3)\n",
        "print(\"A6 =\", A6)\n",
        "print(\"A7 =\", A7)\n",
        "\n",
        "\n"
      ],
      "metadata": {
        "colab": {
          "base_uri": "https://localhost:8080/"
        },
        "id": "YFrBAoPpN7V3",
        "outputId": "b39f70fd-278a-4b3b-e1dc-e0cc561d6729"
      },
      "execution_count": null,
      "outputs": [
        {
          "output_type": "stream",
          "name": "stderr",
          "text": [
            "<ipython-input-26-2f7a4f1e8691>:19: RuntimeWarning: overflow encountered in exp\n",
            "  return 1 / (1 + np.exp(-2 * np.pi * (G - E1) / (hb * omega)))\n",
            "<ipython-input-26-2f7a4f1e8691>:22: RuntimeWarning: overflow encountered in exp\n",
            "  return 1 / (1 + np.exp(-2 * np.pi * (G - E2) / (hb * omega)))\n",
            "<ipython-input-26-2f7a4f1e8691>:25: RuntimeWarning: overflow encountered in exp\n",
            "  return 1 / (1 + np.exp((G - ec * V) / (kb * T)))\n",
            "<ipython-input-26-2f7a4f1e8691>:38: IntegrationWarning: The integral is probably divergent, or slowly convergent.\n",
            "  return ec/h * quad(integrand, -np.inf , np.inf, limit=100)[0]\n",
            "<ipython-input-26-2f7a4f1e8691>:45: IntegrationWarning: The algorithm does not converge.  Roundoff error is detected\n",
            "  in the extrapolation table.  It is assumed that the requested tolerance\n",
            "  cannot be achieved, and that the returned result (if full_output = 1) is \n",
            "  the best which can be obtained.\n",
            "  return ec/h * quad(integrand, -np.inf , np.inf, limit=100)[0]\n",
            "<ipython-input-26-2f7a4f1e8691>:45: IntegrationWarning: The integral is probably divergent, or slowly convergent.\n",
            "  return ec/h * quad(integrand, -np.inf , np.inf, limit=100)[0]\n",
            "<ipython-input-26-2f7a4f1e8691>:59: RuntimeWarning: overflow encountered in exp\n",
            "  return 2 / (0.1 * 3.14) * (factor1 / (1 + np.exp((G - ec * 0) / (kb * T2))) + \\\n",
            "<ipython-input-26-2f7a4f1e8691>:61: RuntimeWarning: overflow encountered in exp\n",
            "  1 / (1 + np.exp(G))) * np.sinh(np.sqrt(10 / (2 * (G - 1 - U)))) ** -1\n",
            "<ipython-input-26-2f7a4f1e8691>:60: RuntimeWarning: overflow encountered in exp\n",
            "  factor2 / (1 + np.exp((G - ec * V3) / (kb * T3))) - \\\n",
            "<ipython-input-26-2f7a4f1e8691>:86: RuntimeWarning: overflow encountered in exp\n",
            "  return 2 / (0.1 * 3.14) * (factor1 / (1 + np.exp((G - ec * 0) / (kb * T2))) + \\\n",
            "<ipython-input-26-2f7a4f1e8691>:88: RuntimeWarning: overflow encountered in exp\n",
            "  1 / (1 + np.exp(G))) * np.sinh(np.sqrt(10 / (2 * (G - 1 - U)))) ** -1\n",
            "<ipython-input-26-2f7a4f1e8691>:87: RuntimeWarning: overflow encountered in exp\n",
            "  factor2 / (1 + np.exp((G - ec * V3) / (kb * T3))) - \\\n"
          ]
        },
        {
          "output_type": "stream",
          "name": "stdout",
          "text": [
            "A3 = 9.909741072446533\n",
            "A6 = 3.820130074051223\n",
            "A7 = 6.864935573248878\n"
          ]
        }
      ]
    },
    {
      "cell_type": "markdown",
      "source": [
        "# **Estimation of interaction Potential and applied gate voltage for spin-up region ($U_1^{\\uparrow}$ and $U_2^{\\uparrow}$) in QPC 1 in three terminal QSH setup with voltage-temperature probe**"
      ],
      "metadata": {
        "id": "BAcaAIS2joLs"
      }
    },
    {
      "cell_type": "code",
      "source": [
        "import numpy as np\n",
        "from scipy.integrate import quad\n",
        "from scipy.optimize import fsolve\n",
        "\n",
        "# Constants\n",
        "ec = 1\n",
        "h = 1\n",
        "hb = 1\n",
        "kb = 1\n",
        "V = 20\n",
        "Vg = 1\n",
        "T1 = 2\n",
        "T2 = 1\n",
        "omega = 0.1\n",
        "pi = np.pi\n",
        "\n",
        "# Functions for TX, TY, f1, f2, f3\n",
        "def TX(G, E1):\n",
        "    return 1 / (1 + np.exp(-2 * pi * (G - E1) / (hb * omega)))\n",
        "\n",
        "def TY(G, E2):\n",
        "    return 1 / (1 + np.exp(-2 * pi * (G - E2) / (hb * omega)))\n",
        "\n",
        "def f1(G, V1, T1):\n",
        "    return 1 / (1 + np.exp((G - ec * V1) / (kb * T1)))\n",
        "\n",
        "def f2(G, V2, T2):\n",
        "    return 1 / (1 + np.exp((G - ec * V2) / (kb * T2)))\n",
        "\n",
        "def f3(G, V3, T3):\n",
        "    return 1 / (1 + np.exp((G - ec * V3) / (kb * T3)))\n",
        "\n",
        "# Define the integral functions I3 and J3\n",
        "def I3(V3, U, T3):\n",
        "    E1 = 1 + U\n",
        "    E2 = 1\n",
        "    V1 = -V\n",
        "    V2 = 0\n",
        "\n",
        "    def integrand(G):\n",
        "        T31 = TX(G, E1) + TX(G, E1) * (1 - TY(G, E2))\n",
        "        T32 = TY(G, E2) * (1 - TX(G, E1)) + TY(G, E2)\n",
        "        return (T31 * (f3(G, V3, T3) - f1(G, V1, T1)) + T32 * (f3(G, V3, T3) - f2(G, V2, T2)))\n",
        "\n",
        "    result, _ = quad(integrand, -np.inf, np.inf)\n",
        "    return ec / h * result\n",
        "\n",
        "def J3(V3, U, T3):\n",
        "    E1 = 1 + U\n",
        "    E2 = 1\n",
        "    V1 = -V\n",
        "    V2 = 0\n",
        "\n",
        "    def integrand(G):\n",
        "        T31 = TX(G, E1) + TX(G, E1) * (1 - TY(G, E2))\n",
        "        T32 = TY(G, E2) * (1 - TX(G, E1)) + TY(G, E2)\n",
        "        return G * (T31 * (f3(G, V3, T3) - f1(G, V1, T1)) + T32 * (f3(G, V3, T3) - f2(G, V2, T2)))\n",
        "\n",
        "    result, _ = quad(integrand, -np.inf, np.inf)\n",
        "    return ec / h * result\n",
        "\n",
        "# Define functions to find the roots of I3 and J3\n",
        "def find_I4_I5(U):\n",
        "    def equations(vars):\n",
        "        V3, T3 = vars\n",
        "        return [I3(V3, U, T3), J3(V3, U, T3)]\n",
        "\n",
        "    V3, T3 = fsolve(equations, [V, 2 * T2])\n",
        "    return V3, T3\n",
        "\n",
        "# Define A11 and A12\n",
        "def A11(U, G, V3, T3):\n",
        "    E1 = 1 + U\n",
        "    E2 = 1\n",
        "\n",
        "    term1 = (1 - 1 / (1 + np.exp(-2 * pi * (G - 1 - U) / (hb * omega))) / 2) * f1(G, -V, T1)\n",
        "    term2 = (TX(G, E1) * TY(G, E2)) / 2 * f2(G, 0, T2)\n",
        "    term3 = (TX(G, E1) * (1 - TY(G, E2))) / 2 * f3(G, V3, T3)\n",
        "    term4 = -1 / (1 + np.exp(G))\n",
        "\n",
        "    return 2 / (0.1 * 3.14) * (term1 + term2 + term3 + term4) * np.sinh(np.sqrt(10 / (2 * (G - 1 - U)))) ** -1\n",
        "\n",
        "def A12(U, G, V3, T3):\n",
        "    E1 = 1 + U\n",
        "    E2 = 1\n",
        "\n",
        "    term1 = (1 - 1 / (1 + np.exp(-2 * pi * (G - 1 - U) / (hb * omega))) / 2) * f1(G, -V, T1)\n",
        "    term2 = (TX(G, E1) * TY(G, E2)) / 2 * f2(G, 0, T2)\n",
        "    term3 = (TX(G, E1) * (1 - TY(G, E2))) / 2 * f3(G, V3, T3)\n",
        "    term4 = -1 / (1 + np.exp(G))\n",
        "\n",
        "    return 2 / (0.1 * 3.14) * (term1 + term2 + term3 + term4) * np.cosh(np.sqrt(10 / (2 * (1 + U - G)))) ** -1\n",
        "\n",
        "# Define A1 and solve for A2\n",
        "def A1(U):\n",
        "    V3, T3 = find_I4_I5(U)\n",
        "\n",
        "    integral1, _ = quad(lambda G: A11(U, G, V3, T3), 1 + U, np.inf)\n",
        "    integral2, _ = quad(lambda G: A12(U, G, V3, T3), U - 4, 1 + U)\n",
        "\n",
        "    return integral1 + integral2\n",
        "\n",
        "A3 = fsolve(lambda U: A1(U) - 0.01 * (U - Vg), 0.01)[0]\n",
        "\n",
        "# Define A21 and A22\n",
        "def A21(U, G, V3, T3):\n",
        "    E1 = 1 + U\n",
        "    E2 = 1\n",
        "\n",
        "    term1 = (TX(G, E1) / 2) * f1(G, -V, T1)\n",
        "    term2 = (1 - (TX(G, E1) / 2)) * TY(G, E2) * f2(G, 0, T2)\n",
        "    term3 = (1 - (TX(G, E1) / 2)) * (1 - TY(G, E2)) * f3(G, V3, T3)\n",
        "    term4 = -1 / (1 + np.exp(G))\n",
        "\n",
        "    return 2 / (0.1 * 3.14) * (term1 + term2 + term3 + term4) * np.sinh(np.sqrt(10 / (2 * (G - 1 - U)))) ** -1\n",
        "\n",
        "def A22(U, G, V3, T3):\n",
        "    E1 = 1 + U\n",
        "    E2 = 1\n",
        "\n",
        "    term1 = (TX(G, E1) / 2) * f1(G, -V, T1)\n",
        "    term2 = (1 - (TX(G, E1) / 2)) * TY(G, E2) * f2(G, 0, T2)\n",
        "    term3 = (1 - (TX(G, E1) / 2)) * (1 - TY(G, E2)) * f3(G, V3, T3)\n",
        "    term4 = -1 / (1 + np.exp(G))\n",
        "\n",
        "    return 2 / (0.1 * 3.14) * (term1 + term2 + term3 + term4) * np.cosh(np.sqrt(10 / (2 * (1 + U - G)))) ** -1\n",
        "\n",
        "# Define A4 and solve for A5\n",
        "def A4(U):\n",
        "    V3, T3 = find_I4_I5(U)\n",
        "\n",
        "    integral1, _ = quad(lambda G: A21(U, G, V3, T3), 1 + U, np.inf)\n",
        "    integral2, _ = quad(lambda G: A22(U, G, V3, T3), U - 4, 1 + U)\n",
        "\n",
        "    return integral1 + integral2\n",
        "\n",
        "A6 = fsolve(lambda U: A4(U) - 0.01 * (U - Vg), 0.01)[0]\n",
        "\n",
        "# Calculate A7\n",
        "A7 = (A3 + A6) / 2\n",
        "\n",
        "print(\"A3 =\", A3)\n",
        "print(\"A6 =\", A6)\n",
        "print(\"A7 =\", A7)"
      ],
      "metadata": {
        "colab": {
          "base_uri": "https://localhost:8080/"
        },
        "id": "oFqvrQj7BJrR",
        "outputId": "d6332397-97fc-4524-c2df-c7ace3818560"
      },
      "execution_count": null,
      "outputs": [
        {
          "output_type": "stream",
          "name": "stderr",
          "text": [
            "<ipython-input-50-b4494cde51ef>:19: RuntimeWarning: overflow encountered in exp\n",
            "  return 1 / (1 + np.exp(-2 * pi * (G - E1) / (hb * omega)))\n",
            "<ipython-input-50-b4494cde51ef>:22: RuntimeWarning: overflow encountered in exp\n",
            "  return 1 / (1 + np.exp(-2 * pi * (G - E2) / (hb * omega)))\n",
            "<ipython-input-50-b4494cde51ef>:28: RuntimeWarning: overflow encountered in exp\n",
            "  return 1 / (1 + np.exp((G - ec * V2) / (kb * T2)))\n",
            "<ipython-input-50-b4494cde51ef>:31: RuntimeWarning: overflow encountered in exp\n",
            "  return 1 / (1 + np.exp((G - ec * V3) / (kb * T3)))\n",
            "<ipython-input-50-b4494cde51ef>:25: RuntimeWarning: overflow encountered in exp\n",
            "  return 1 / (1 + np.exp((G - ec * V1) / (kb * T1)))\n",
            "<ipython-input-50-b4494cde51ef>:45: IntegrationWarning: The integral is probably divergent, or slowly convergent.\n",
            "  result, _ = quad(integrand, -np.inf, np.inf)\n",
            "<ipython-input-50-b4494cde51ef>:59: IntegrationWarning: The integral is probably divergent, or slowly convergent.\n",
            "  result, _ = quad(integrand, -np.inf, np.inf)\n",
            "<ipython-input-50-b4494cde51ef>:79: RuntimeWarning: overflow encountered in exp\n",
            "  term4 = -1 / (1 + np.exp(G))\n",
            "<ipython-input-50-b4494cde51ef>:103: RuntimeWarning: The iteration is not making good progress, as measured by the \n",
            "  improvement from the last ten iterations.\n",
            "  A3 = fsolve(lambda U: A1(U) - 0.01 * (U - Vg), 0.01)[0]\n",
            "<ipython-input-50-b4494cde51ef>:113: RuntimeWarning: overflow encountered in exp\n",
            "  term4 = -1 / (1 + np.exp(G))\n"
          ]
        },
        {
          "output_type": "stream",
          "name": "stdout",
          "text": [
            "A3 = 9.908973010097407\n",
            "A6 = 0.3654602018178395\n",
            "A7 = 5.137216605957623\n"
          ]
        }
      ]
    },
    {
      "cell_type": "markdown",
      "source": [
        "# **Estimation of interaction Potential and applied gate voltage for spin-down region ($U_1^{\\downarrow}$ and $U_2^{\\downarrow}$) in QPC 1 in three terminal QSH setup with voltage-temperature probe**"
      ],
      "metadata": {
        "id": "R3JNrg6lLk64"
      }
    },
    {
      "cell_type": "code",
      "source": [
        "import numpy as np\n",
        "from scipy.integrate import quad\n",
        "from scipy.optimize import fsolve\n",
        "\n",
        "# Constants\n",
        "ec = 1\n",
        "h = 1\n",
        "hb = 1\n",
        "kb = 1\n",
        "V = 20\n",
        "Vg = 1\n",
        "T1 = 2\n",
        "T2 = 1\n",
        "omega = 0.1\n",
        "pi = np.pi\n",
        "\n",
        "# Functions for TX, TY, f1, f2, f3\n",
        "def TX(G, E1):\n",
        "    return 1 / (1 + np.exp(-2 * pi * (G - E1) / (hb * omega)))\n",
        "\n",
        "def TY(G, E2):\n",
        "    return 1 / (1 + np.exp(-2 * pi * (G - E2) / (hb * omega)))\n",
        "\n",
        "def f1(G, V1, T1):\n",
        "    return 1 / (1 + np.exp((G - ec * V1) / (kb * T1)))\n",
        "\n",
        "def f2(G, V2, T2):\n",
        "    return 1 / (1 + np.exp((G - ec * V2) / (kb * T2)))\n",
        "\n",
        "def f3(G, V3, T3):\n",
        "    return 1 / (1 + np.exp((G - ec * V3) / (kb * T3)))\n",
        "\n",
        "# Define the integral functions I3 and J3\n",
        "def I3(V3, U, T3):\n",
        "    E1 = 1 + U\n",
        "    E2 = 1\n",
        "    V1 = -V\n",
        "    V2 = 0\n",
        "\n",
        "    def integrand(G):\n",
        "        T31 = TX(G, E1) + TX(G, E1) * (1 - TY(G, E2))\n",
        "        T32 = TY(G, E2) * (1 - TX(G, E1)) + TY(G, E2)\n",
        "        return (T31 * (f3(G, V3, T3) - f1(G, V1, T1)) + T32 * (f3(G, V3, T3) - f2(G, V2, T2)))\n",
        "\n",
        "    result, _ = quad(integrand, -np.inf, np.inf)\n",
        "    return ec / h * result\n",
        "\n",
        "def J3(V3, U, T3):\n",
        "    E1 = 1 + U\n",
        "    E2 = 1\n",
        "    V1 = -V\n",
        "    V2 = 0\n",
        "\n",
        "    def integrand(G):\n",
        "        T31 = TX(G, E1) + TX(G, E1) * (1 - TY(G, E2))\n",
        "        T32 = TY(G, E2) * (1 - TX(G, E1)) + TY(G, E2)\n",
        "        return G * (T31 * (f3(G, V3, T3) - f1(G, V1, T1)) + T32 * (f3(G, V3, T3) - f2(G, V2, T2)))\n",
        "\n",
        "    result, _ = quad(integrand, -np.inf, np.inf)\n",
        "    return ec / h * result\n",
        "\n",
        "# Define functions to find the roots of I3 and J3\n",
        "def find_I4_I5(U):\n",
        "    def equations(vars):\n",
        "        V3, T3 = vars\n",
        "        return [I3(V3, U, T3), J3(V3, U, T3)]\n",
        "\n",
        "    V3, T3 = fsolve(equations, [V, 2 * T2])\n",
        "    return V3, T3\n",
        "\n",
        "# Define A11 and A12\n",
        "def A11(U, G, V3, T3):\n",
        "    E1 = 1 + U\n",
        "    E2 = 1\n",
        "\n",
        "    term1 = (1 - 1 / (1 + np.exp(-2 * pi * (G - 1 - U) / (hb * omega))) / 2) * f1(G, -V, T1)\n",
        "    term2 = 0\n",
        "    term3 = (TX(G, E1)) / 2 * f3(G, V3, T3)\n",
        "    term4 = -1 / (1 + np.exp(G))\n",
        "\n",
        "    return 2 / (0.1 * 3.14) * (term1 + term2 + term3 + term4) * np.sinh(np.sqrt(10 / (2 * (G - 1 - U)))) ** -1\n",
        "\n",
        "def A12(U, G, V3, T3):\n",
        "    E1 = 1 + U\n",
        "    E2 = 1\n",
        "\n",
        "    term1 = (1 - 1 / (1 + np.exp(-2 * pi * (G - 1 - U) / (hb * omega))) / 2) * f1(G, -V, T1)\n",
        "    term2 = 0\n",
        "    term3 = (TX(G, E1)) / 2 * f3(G, V3, T3)\n",
        "    term4 = -1 / (1 + np.exp(G))\n",
        "\n",
        "    return 2 / (0.1 * 3.14) * (term1 + term2 + term3 + term4) * np.cosh(np.sqrt(10 / (2 * (1 + U - G)))) ** -1\n",
        "\n",
        "# Define A1 and solve for A2\n",
        "def A1(U):\n",
        "    V3, T3 = find_I4_I5(U)\n",
        "\n",
        "    integral1, _ = quad(lambda G: A11(U, G, V3, T3), 1 + U, np.inf)\n",
        "    integral2, _ = quad(lambda G: A12(U, G, V3, T3), U - 4, 1 + U)\n",
        "\n",
        "    return integral1 + integral2\n",
        "\n",
        "A3 = fsolve(lambda U: A1(U) - 0.01 * (U - Vg), 0.01)[0]\n",
        "\n",
        "# Define A21 and A22\n",
        "def A21(U, G, V3, T3):\n",
        "    E1 = 1 + U\n",
        "    E2 = 1\n",
        "\n",
        "    term1 = (TX(G, E1) / 2) * f1(G, -V, T1)\n",
        "    term2 = 0\n",
        "    term3 = (1 - (TX(G, E1) / 2)) * f3(G, V3, T3)\n",
        "    term4 = -1 / (1 + np.exp(G))\n",
        "\n",
        "    return 2 / (0.1 * 3.14) * (term1 + term2 + term3 + term4) * np.sinh(np.sqrt(10 / (2 * (G - 1 - U)))) ** -1\n",
        "\n",
        "def A22(U, G, V3, T3):\n",
        "    E1 = 1 + U\n",
        "    E2 = 1\n",
        "\n",
        "    term1 = (TX(G, E1) / 2) * f1(G, -V, T1)\n",
        "    term2 = (1 - (TX(G, E1) / 2)) * TY(G, E2) * f2(G, 0, T2)\n",
        "    term3 = (1 - (TX(G, E1) / 2)) * (1 - TY(G, E2)) * f3(G, V3, T3)\n",
        "    term4 = -1 / (1 + np.exp(G))\n",
        "\n",
        "    return 2 / (0.1 * 3.14) * (term1 + term2 + term3 + term4) * np.cosh(np.sqrt(10 / (2 * (1 + U - G)))) ** -1\n",
        "\n",
        "# Define A4 and solve for A5\n",
        "def A4(U):\n",
        "    V3, T3 = find_I4_I5(U)\n",
        "\n",
        "    integral1, _ = quad(lambda G: A21(U, G, V3, T3), 1 + U, np.inf)\n",
        "    integral2, _ = quad(lambda G: A22(U, G, V3, T3), U - 4, 1 + U)\n",
        "\n",
        "    return integral1 + integral2\n",
        "\n",
        "A6 = fsolve(lambda U: A4(U) - 0.01 * (U - Vg), 0.01)[0]\n",
        "\n",
        "# Calculate A7\n",
        "A7 = (A3 + A6) / 2\n",
        "\n",
        "print(\"A3 =\", A3)\n",
        "print(\"A6 =\", A6)\n",
        "print(\"A7 =\", A7)"
      ],
      "metadata": {
        "colab": {
          "base_uri": "https://localhost:8080/"
        },
        "id": "Lo5V_t9fHS5A",
        "outputId": "e1a68b42-8a75-4b58-9450-ed9d437759d6"
      },
      "execution_count": null,
      "outputs": [
        {
          "output_type": "stream",
          "name": "stderr",
          "text": [
            "<ipython-input-52-0e7f2cd30fb4>:19: RuntimeWarning: overflow encountered in exp\n",
            "  return 1 / (1 + np.exp(-2 * pi * (G - E1) / (hb * omega)))\n",
            "<ipython-input-52-0e7f2cd30fb4>:22: RuntimeWarning: overflow encountered in exp\n",
            "  return 1 / (1 + np.exp(-2 * pi * (G - E2) / (hb * omega)))\n",
            "<ipython-input-52-0e7f2cd30fb4>:28: RuntimeWarning: overflow encountered in exp\n",
            "  return 1 / (1 + np.exp((G - ec * V2) / (kb * T2)))\n",
            "<ipython-input-52-0e7f2cd30fb4>:31: RuntimeWarning: overflow encountered in exp\n",
            "  return 1 / (1 + np.exp((G - ec * V3) / (kb * T3)))\n",
            "<ipython-input-52-0e7f2cd30fb4>:25: RuntimeWarning: overflow encountered in exp\n",
            "  return 1 / (1 + np.exp((G - ec * V1) / (kb * T1)))\n",
            "<ipython-input-52-0e7f2cd30fb4>:45: IntegrationWarning: The integral is probably divergent, or slowly convergent.\n",
            "  result, _ = quad(integrand, -np.inf, np.inf)\n",
            "<ipython-input-52-0e7f2cd30fb4>:59: IntegrationWarning: The integral is probably divergent, or slowly convergent.\n",
            "  result, _ = quad(integrand, -np.inf, np.inf)\n",
            "<ipython-input-52-0e7f2cd30fb4>:79: RuntimeWarning: overflow encountered in exp\n",
            "  term4 = -1 / (1 + np.exp(G))\n",
            "<ipython-input-52-0e7f2cd30fb4>:103: RuntimeWarning: The iteration is not making good progress, as measured by the \n",
            "  improvement from the last ten iterations.\n",
            "  A3 = fsolve(lambda U: A1(U) - 0.01 * (U - Vg), 0.01)[0]\n",
            "<ipython-input-52-0e7f2cd30fb4>:113: RuntimeWarning: overflow encountered in exp\n",
            "  term4 = -1 / (1 + np.exp(G))\n"
          ]
        },
        {
          "output_type": "stream",
          "name": "stdout",
          "text": [
            "A3 = 9.905734739463533\n",
            "A6 = 0.39543498343933375\n",
            "A7 = 5.150584861451433\n"
          ]
        }
      ]
    },
    {
      "cell_type": "markdown",
      "source": [
        "# **Estimation of interaction Potential and applied gate voltage for spin-up region ($U_3^{\\uparrow}$ and $U_4^{\\uparrow}$) in QPC 2 in three terminal QSH setup with voltage-temperature probe**"
      ],
      "metadata": {
        "id": "boas8ncdey8l"
      }
    },
    {
      "cell_type": "code",
      "source": [
        "import numpy as np\n",
        "from scipy.integrate import quad\n",
        "from scipy.optimize import fsolve\n",
        "\n",
        "# Constants\n",
        "ec = 1\n",
        "h = 1\n",
        "hb = 1\n",
        "kb = 1\n",
        "V = 20\n",
        "Vg = 0\n",
        "T1 = 2\n",
        "T2 = 1\n",
        "omega = 0.1\n",
        "pi = np.pi\n",
        "\n",
        "# Functions for TX, TY, f1, f2, f3\n",
        "def TX(G, E1):\n",
        "    return 1 / (1 + np.exp(-2 * pi * (G - E1) / (hb * omega)))\n",
        "\n",
        "def TY(G, E2):\n",
        "    return 1 / (1 + np.exp(-2 * pi * (G - E2) / (hb * omega)))\n",
        "\n",
        "def f1(G, V1, T1):\n",
        "    return 1 / (1 + np.exp((G - ec * V1) / (kb * T1)))\n",
        "\n",
        "def f2(G, V2, T2):\n",
        "    return 1 / (1 + np.exp((G - ec * V2) / (kb * T2)))\n",
        "\n",
        "def f3(G, V3, T3):\n",
        "    return 1 / (1 + np.exp((G - ec * V3) / (kb * T3)))\n",
        "\n",
        "# Define the integral functions I3 and J3\n",
        "def I3(V3, U, T3):\n",
        "    E1 = 1\n",
        "    E2 = 1 + U\n",
        "    V1 = -V\n",
        "    V2 = 0\n",
        "\n",
        "    def integrand(G):\n",
        "        T31 = TX(G, E1) + TX(G, E1) * (1 - TY(G, E2))\n",
        "        T32 = TY(G, E2) * (1 - TX(G, E1)) + TY(G, E2)\n",
        "        return (T31 * (f3(G, V3, T3) - f1(G, V1, T1)) + T32 * (f3(G, V3, T3) - f2(G, V2, T2)))\n",
        "\n",
        "    result, _ = quad(integrand, -np.inf, np.inf)\n",
        "    return ec / h * result\n",
        "\n",
        "def J3(V3, U, T3):\n",
        "    E1 = 1\n",
        "    E2 = 1 + U\n",
        "    V1 = -V\n",
        "    V2 = 0\n",
        "\n",
        "    def integrand(G):\n",
        "        T31 = TX(G, E1) + TX(G, E1) * (1 - TY(G, E2))\n",
        "        T32 = TY(G, E2) * (1 - TX(G, E1)) + TY(G, E2)\n",
        "        return G * (T31 * (f3(G, V3, T3) - f1(G, V1, T1)) + T32 * (f3(G, V3, T3) - f2(G, V2, T2)))\n",
        "\n",
        "    result, _ = quad(integrand, -np.inf, np.inf)\n",
        "    return ec / h * result\n",
        "\n",
        "# Define functions to find the roots of I3 and J3\n",
        "def find_I4_I5(U):\n",
        "    def equations(vars):\n",
        "        V3, T3 = vars\n",
        "        return [I3(V3, U, T3), J3(V3, U, T3)]\n",
        "\n",
        "    V3, T3 = fsolve(equations, [V, 2 * T2])\n",
        "    return V3, T3\n",
        "\n",
        "# Define A11 and A12\n",
        "def A11(U, G, V3, T3):\n",
        "    E1 = 1\n",
        "    E2 = 1 + U\n",
        "\n",
        "    term1 = 0\n",
        "    term2 = (TY(G, E2)) / 2 * f2(G, 0, T2)\n",
        "    term3 = (1 - TY(G, E2) / 2) * f3(G, V3, T3)\n",
        "    term4 = -1 / (1 + np.exp(G))\n",
        "\n",
        "    return 2 / (0.1 * 3.14) * (term1 + term2 + term3 + term4) * np.sinh(np.sqrt(10 / (2 * (G - 1 - U)))) ** -1\n",
        "\n",
        "def A12(U, G, V3, T3):\n",
        "    E1 = 1\n",
        "    E2 = 1 + U\n",
        "\n",
        "    term1 = 0\n",
        "    term2 = (TY(G, E2)) / 2 * f2(G, 0, T2)\n",
        "    term3 = (1 - TY(G, E2) / 2) * f3(G, V3, T3)\n",
        "    term4 = -1 / (1 + np.exp(G))\n",
        "\n",
        "    return 2 / (0.1 * 3.14) * (term1 + term2 + term3 + term4) * np.cosh(np.sqrt(10 / (2 * (1 + U - G)))) ** -1\n",
        "\n",
        "# Define A1 and solve for A2\n",
        "def A1(U):\n",
        "    V3, T3 = find_I4_I5(U)\n",
        "\n",
        "    integral1, _ = quad(lambda G: A11(U, G, V3, T3), 1 + U, np.inf)\n",
        "    integral2, _ = quad(lambda G: A12(U, G, V3, T3), U - 4, 1 + U)\n",
        "\n",
        "    return integral1 + integral2\n",
        "\n",
        "A3 = fsolve(lambda U: A1(U) - 0.01 * (U - Vg), 0.1)[0]\n",
        "\n",
        "# Define A21 and A22\n",
        "def A21(U, G, V3, T3):\n",
        "    E1 = 1\n",
        "    E2 = 1 + U\n",
        "\n",
        "    term1 = 0\n",
        "    term2 = (1 - (TY(G, E2) / 2)) * f2(G, 0, T2)\n",
        "    term3 = TY(G, E2) / 2 * f3(G, V3, T3)\n",
        "    term4 = -1 / (1 + np.exp(G))\n",
        "\n",
        "    return 2 / (0.1 * 3.14) * (term1 + term2 + term3 + term4) * np.sinh(np.sqrt(10 / (2 * (G - 1 - U)))) ** -1\n",
        "\n",
        "def A22(U, G, V3, T3):\n",
        "    E1 = 1\n",
        "    E2 = 1 + U\n",
        "\n",
        "    term1 = 0\n",
        "    term2 = (1 - (TY(G, E2) / 2)) * f2(G, 0, T2)\n",
        "    term3 = TY(G, E2) / 2 * f3(G, V3, T3)\n",
        "    term4 = -1 / (1 + np.exp(G))\n",
        "\n",
        "    return 2 / (0.1 * 3.14) * (term1 + term2 + term3 + term4) * np.cosh(np.sqrt(10 / (2 * (1 + U - G)))) ** -1\n",
        "\n",
        "# Define A4 and solve for A5\n",
        "def A4(U):\n",
        "    V3, T3 = find_I4_I5(U)\n",
        "\n",
        "    integral1, _ = quad(lambda G: A21(U, G, V3, T3), 1 + U, np.inf)\n",
        "    integral2, _ = quad(lambda G: A22(U, G, V3, T3), U - 4, 1 + U)\n",
        "\n",
        "    return integral1 + integral2\n",
        "\n",
        "A6 = fsolve(lambda U: A4(U) - 0.01 * (U - Vg), 0.1)[0]\n",
        "\n",
        "# Calculate A7\n",
        "A7 = (A3 + A6) / 2\n",
        "\n",
        "print(\"A3 =\", A3)\n",
        "print(\"A6 =\", A6)\n",
        "print(\"A7 =\", A7)"
      ],
      "metadata": {
        "colab": {
          "base_uri": "https://localhost:8080/"
        },
        "id": "LM8dUV6Zess6",
        "outputId": "edfc55ce-1c16-4440-f8c2-fbe72197ba56"
      },
      "execution_count": null,
      "outputs": [
        {
          "output_type": "stream",
          "name": "stderr",
          "text": [
            "<ipython-input-69-249320afc462>:19: RuntimeWarning: overflow encountered in exp\n",
            "  return 1 / (1 + np.exp(-2 * pi * (G - E1) / (hb * omega)))\n",
            "<ipython-input-69-249320afc462>:22: RuntimeWarning: overflow encountered in exp\n",
            "  return 1 / (1 + np.exp(-2 * pi * (G - E2) / (hb * omega)))\n",
            "<ipython-input-69-249320afc462>:28: RuntimeWarning: overflow encountered in exp\n",
            "  return 1 / (1 + np.exp((G - ec * V2) / (kb * T2)))\n",
            "<ipython-input-69-249320afc462>:31: RuntimeWarning: overflow encountered in exp\n",
            "  return 1 / (1 + np.exp((G - ec * V3) / (kb * T3)))\n",
            "<ipython-input-69-249320afc462>:25: RuntimeWarning: overflow encountered in exp\n",
            "  return 1 / (1 + np.exp((G - ec * V1) / (kb * T1)))\n",
            "<ipython-input-69-249320afc462>:45: IntegrationWarning: The integral is probably divergent, or slowly convergent.\n",
            "  result, _ = quad(integrand, -np.inf, np.inf)\n",
            "<ipython-input-69-249320afc462>:59: IntegrationWarning: The integral is probably divergent, or slowly convergent.\n",
            "  result, _ = quad(integrand, -np.inf, np.inf)\n",
            "<ipython-input-69-249320afc462>:79: RuntimeWarning: overflow encountered in exp\n",
            "  term4 = -1 / (1 + np.exp(G))\n",
            "<ipython-input-69-249320afc462>:113: RuntimeWarning: overflow encountered in exp\n",
            "  term4 = -1 / (1 + np.exp(G))\n"
          ]
        },
        {
          "output_type": "stream",
          "name": "stdout",
          "text": [
            "A3 = -0.43737715190628795\n",
            "A6 = 2.23981202457826\n",
            "A7 = 0.901217436335986\n"
          ]
        },
        {
          "output_type": "stream",
          "name": "stderr",
          "text": [
            "<ipython-input-69-249320afc462>:137: RuntimeWarning: The iteration is not making good progress, as measured by the \n",
            "  improvement from the last ten iterations.\n",
            "  A6 = fsolve(lambda U: A4(U) - 0.01 * (U - Vg), 0.1)[0]\n"
          ]
        }
      ]
    },
    {
      "cell_type": "markdown",
      "source": [
        "# **Estimation of interaction Potential and applied gate voltage for spin-down region ($U_3^{\\downarrow}$ and $U_4^{\\downarrow}$) in QPC 2 in three terminal QSH setup with voltage-temperature probe**"
      ],
      "metadata": {
        "id": "ITrAyhgeivVZ"
      }
    },
    {
      "cell_type": "code",
      "source": [
        "import numpy as np\n",
        "from scipy.integrate import quad\n",
        "from scipy.optimize import fsolve\n",
        "\n",
        "# Constants\n",
        "ec = 1\n",
        "h = 1\n",
        "hb = 1\n",
        "kb = 1\n",
        "V = 20\n",
        "Vg = 1\n",
        "T1 = 2\n",
        "T2 = 1\n",
        "omega = 0.1\n",
        "pi = np.pi\n",
        "\n",
        "# Functions for TX, TY, f1, f2, f3\n",
        "def TX(G, E1):\n",
        "    return 1 / (1 + np.exp(-2 * pi * (G - E1) / (hb * omega)))\n",
        "\n",
        "def TY(G, E2):\n",
        "    return 1 / (1 + np.exp(-2 * pi * (G - E2) / (hb * omega)))\n",
        "\n",
        "def f1(G, V1, T1):\n",
        "    return 1 / (1 + np.exp((G - ec * V1) / (kb * T1)))\n",
        "\n",
        "def f2(G, V2, T2):\n",
        "    return 1 / (1 + np.exp((G - ec * V2) / (kb * T2)))\n",
        "\n",
        "def f3(G, V3, T3):\n",
        "    return 1 / (1 + np.exp((G - ec * V3) / (kb * T3)))\n",
        "\n",
        "# Define the integral functions I3 and J3\n",
        "def I3(V3, U, T3):\n",
        "    E1 = 1\n",
        "    E2 = 1 + U\n",
        "    V1 = -V\n",
        "    V2 = 0\n",
        "\n",
        "    def integrand(G):\n",
        "        T31 = TX(G, E1) + TX(G, E1) * (1 - TY(G, E2))\n",
        "        T32 = TY(G, E2) * (1 - TX(G, E1)) + TY(G, E2)\n",
        "        return (T31 * (f3(G, V3, T3) - f1(G, V1, T1)) + T32 * (f3(G, V3, T3) - f2(G, V2, T2)))\n",
        "\n",
        "    result, _ = quad(integrand, -np.inf, np.inf)\n",
        "    return ec / h * result\n",
        "\n",
        "def J3(V3, U, T3):\n",
        "    E1 = 1\n",
        "    E2 = 1 + U\n",
        "    V1 = -V\n",
        "    V2 = 0\n",
        "\n",
        "    def integrand(G):\n",
        "        T31 = TX(G, E1) + TX(G, E1) * (1 - TY(G, E2))\n",
        "        T32 = TY(G, E2) * (1 - TX(G, E1)) + TY(G, E2)\n",
        "        return G * (T31 * (f3(G, V3, T3) - f1(G, V1, T1)) + T32 * (f3(G, V3, T3) - f2(G, V2, T2)))\n",
        "\n",
        "    result, _ = quad(integrand, -np.inf, np.inf)\n",
        "    return ec / h * result\n",
        "\n",
        "# Define functions to find the roots of I3 and J3\n",
        "def find_I4_I5(U):\n",
        "    def equations(vars):\n",
        "        V3, T3 = vars\n",
        "        return [I3(V3, U, T3), J3(V3, U, T3)]\n",
        "\n",
        "    V3, T3 = fsolve(equations, [V, 2 * T2])\n",
        "    return V3, T3\n",
        "\n",
        "# Define A11 and A12\n",
        "def A11(U, G, V3, T3):\n",
        "    E1 = 1\n",
        "    E2 = 1 + U\n",
        "\n",
        "    term1 = (1 - TY(G, E2) / 2) * TX(G, E1) * f1(G, -V, T1)\n",
        "    term2 = (TY(G, E2) / 2) * f2(G, 0, T2)\n",
        "    term3 = (1 - TX(G, E1)) * (1 - TY(G, E2) / 2) * f3(G, V3, T3)\n",
        "    term4 = -1 / (1 + np.exp(G))\n",
        "\n",
        "    return 2 / (0.1 * 3.14) * (term1 + term2 + term3 + term4) * np.sinh(np.sqrt(10 / (2 * (G - 1 - U)))) ** -1\n",
        "\n",
        "def A12(U, G, V3, T3):\n",
        "    E1 = 1\n",
        "    E2 = 1 + U\n",
        "\n",
        "    term1 = (1 - TY(G, E2) / 2) * TX(G, E1) * f1(G, -V, T1)\n",
        "    term2 = (TY(G, E2) / 2) * f2(G, 0, T2)\n",
        "    term3 = (1 - TX(G, E1)) * (1 - TY(G, E2) / 2) * f3(G, V3, T3)\n",
        "    term4 = -1 / (1 + np.exp(G))\n",
        "\n",
        "    return 2 / (0.1 * 3.14) * (term1 + term2 + term3 + term4) * np.cosh(np.sqrt(10 / (2 * (1 + U - G)))) ** -1\n",
        "\n",
        "# Define A1 and solve for A2\n",
        "def A1(U):\n",
        "    V3, T3 = find_I4_I5(U)\n",
        "\n",
        "    integral1, _ = quad(lambda G: A11(U, G, V3, T3), 1 + U, np.inf)\n",
        "    integral2, _ = quad(lambda G: A12(U, G, V3, T3), U - 4, 1 + U)\n",
        "\n",
        "    return integral1 + integral2\n",
        "\n",
        "A3 = fsolve(lambda U: A1(U) - 0.01 * (U - Vg), 0.1)[0]\n",
        "\n",
        "# Define A21 and A22\n",
        "def A21(U, G, V3, T3):\n",
        "    E1 = 1\n",
        "    E2 = 1 + U\n",
        "\n",
        "    term1 = (TX(G, E1) * TY(G, E2) / 2) * f1(G, -V, T1)\n",
        "    term2 = (1 - TY(G, E2) / 2) * f2(G, 0, T2)\n",
        "    term3 = (1 - TX(G, E1)) * TY(G, E2) / 2 * f3(G, V3, T3)\n",
        "    term4 = -1 / (1 + np.exp(G))\n",
        "\n",
        "    return 2 / (0.1 * 3.14) * (term1 + term2 + term3 + term4) * np.sinh(np.sqrt(10 / (2 * (G - 1 - U)))) ** -1\n",
        "\n",
        "def A22(U, G, V3, T3):\n",
        "    E1 = 1\n",
        "    E2 = 1 + U\n",
        "\n",
        "    term1 = (TX(G, E1) * TY(G, E2) / 2) * f1(G, -V, T1)\n",
        "    term2 = (1 - TY(G, E2) / 2) * f2(G, 0, T2)\n",
        "    term3 = (1 - TX(G, E1)) * TY(G, E2) / 2 * f3(G, V3, T3)\n",
        "    term4 = -1 / (1 + np.exp(G))\n",
        "\n",
        "    return 2 / (0.1 * 3.14) * (term1 + term2 + term3 + term4) * np.cosh(np.sqrt(10 / (2 * (1 + U - G)))) ** -1\n",
        "\n",
        "# Define A4 and solve for A5\n",
        "def A4(U):\n",
        "    V3, T3 = find_I4_I5(U)\n",
        "\n",
        "    integral1, _ = quad(lambda G: A21(U, G, V3, T3), 1 + U, np.inf)\n",
        "    integral2, _ = quad(lambda G: A22(U, G, V3, T3), U - 4, 1 + U)\n",
        "\n",
        "    return integral1 + integral2\n",
        "\n",
        "A6 = fsolve(lambda U: A4(U) - 0.01 * (U - Vg), 0.1)[0]\n",
        "\n",
        "# Calculate A7\n",
        "A7 = (A3 + A6) / 2\n",
        "\n",
        "print(\"A3 =\", A3)\n",
        "print(\"A6 =\", A6)\n",
        "print(\"A7 =\", A7)"
      ],
      "metadata": {
        "colab": {
          "base_uri": "https://localhost:8080/"
        },
        "id": "I1c_yD32hEci",
        "outputId": "85ce3238-4fbd-413f-ab88-a5d5b660f75c"
      },
      "execution_count": null,
      "outputs": [
        {
          "output_type": "stream",
          "name": "stderr",
          "text": [
            "<ipython-input-71-6d90e74b360c>:19: RuntimeWarning: overflow encountered in exp\n",
            "  return 1 / (1 + np.exp(-2 * pi * (G - E1) / (hb * omega)))\n",
            "<ipython-input-71-6d90e74b360c>:22: RuntimeWarning: overflow encountered in exp\n",
            "  return 1 / (1 + np.exp(-2 * pi * (G - E2) / (hb * omega)))\n",
            "<ipython-input-71-6d90e74b360c>:28: RuntimeWarning: overflow encountered in exp\n",
            "  return 1 / (1 + np.exp((G - ec * V2) / (kb * T2)))\n",
            "<ipython-input-71-6d90e74b360c>:31: RuntimeWarning: overflow encountered in exp\n",
            "  return 1 / (1 + np.exp((G - ec * V3) / (kb * T3)))\n",
            "<ipython-input-71-6d90e74b360c>:25: RuntimeWarning: overflow encountered in exp\n",
            "  return 1 / (1 + np.exp((G - ec * V1) / (kb * T1)))\n",
            "<ipython-input-71-6d90e74b360c>:45: IntegrationWarning: The integral is probably divergent, or slowly convergent.\n",
            "  result, _ = quad(integrand, -np.inf, np.inf)\n",
            "<ipython-input-71-6d90e74b360c>:59: IntegrationWarning: The integral is probably divergent, or slowly convergent.\n",
            "  result, _ = quad(integrand, -np.inf, np.inf)\n",
            "<ipython-input-71-6d90e74b360c>:79: RuntimeWarning: overflow encountered in exp\n",
            "  term4 = -1 / (1 + np.exp(G))\n",
            "<ipython-input-71-6d90e74b360c>:103: RuntimeWarning: The iteration is not making good progress, as measured by the \n",
            "  improvement from the last ten iterations.\n",
            "  A3 = fsolve(lambda U: A1(U) - 0.01 * (U - Vg), 0.1)[0]\n",
            "<ipython-input-71-6d90e74b360c>:113: RuntimeWarning: overflow encountered in exp\n",
            "  term4 = -1 / (1 + np.exp(G))\n"
          ]
        },
        {
          "output_type": "stream",
          "name": "stdout",
          "text": [
            "A3 = -0.7139914558040225\n",
            "A6 = 3.1263203498350505\n",
            "A7 = 1.206164447015514\n"
          ]
        },
        {
          "output_type": "stream",
          "name": "stderr",
          "text": [
            "<ipython-input-71-6d90e74b360c>:137: RuntimeWarning: The iteration is not making good progress, as measured by the \n",
            "  improvement from the last ten iterations.\n",
            "  A6 = fsolve(lambda U: A4(U) - 0.01 * (U - Vg), 0.1)[0]\n"
          ]
        }
      ]
    }
  ]
}